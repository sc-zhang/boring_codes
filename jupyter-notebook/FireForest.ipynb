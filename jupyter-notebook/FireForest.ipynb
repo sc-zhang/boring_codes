{
 "cells": [
  {
   "cell_type": "code",
   "execution_count": null,
   "metadata": {},
   "outputs": [],
   "source": [
    "%matplotlib inline\n",
    "from IPython import display\n",
    "import matplotlib.pyplot as plt\n",
    "import random\n",
    "import copy\n",
    "import time"
   ]
  },
  {
   "cell_type": "code",
   "execution_count": null,
   "metadata": {},
   "outputs": [],
   "source": [
    "WIDTH = 101\n",
    "HEIGHT = 101\n",
    "STEP = 100\n",
    "FOREST_DENSITY = 0.7\n",
    "# 0 for ground, 1 for tree, -1 for fire\n",
    "map = [[0 for _ in range(WIDTH)] for _ in range(HEIGHT)]\n",
    "for i in range(HEIGHT):\n",
    "    for j in range(WIDTH):\n",
    "        if random.random() <= FOREST_DENSITY:\n",
    "            map[i][j] = 1\n",
    "RAND_GROW = 0.01\n",
    "RAND_FIRE = 0.0001"
   ]
  },
  {
   "cell_type": "code",
   "execution_count": null,
   "metadata": {},
   "outputs": [],
   "source": [
    "directs = [[0, 1], [0, -1], [1, 0], [-1, 0], [1, 1], [-1, -1], [1, -1], [-1, 1]]\n",
    "def change(ori_map):\n",
    "    new_map = [[0 for _ in range(WIDTH)] for _ in range(HEIGHT)]\n",
    "    for i in range(HEIGHT):\n",
    "        for j in range(WIDTH):\n",
    "            if ori_map[i][j] == -1:\n",
    "                new_map[i][j] = 0\n",
    "            else:\n",
    "                new_map[i][j] = ori_map[i][j]\n",
    "                is_fire = False\n",
    "                for direct in directs:\n",
    "                    ni = i+direct[0]\n",
    "                    nj = j+direct[1]\n",
    "                    if 0<=ni<HEIGHT and 0<=nj<WIDTH:\n",
    "                        if ori_map[ni][nj] == -1:\n",
    "                            is_fire = True\n",
    "                            break\n",
    "                if new_map[i][j] == 1 and (random.random() < RAND_FIRE or is_fire):\n",
    "                    new_map[i][j] = -1\n",
    "                elif new_map[i][j] == 0 and random.random() < RAND_GROW:\n",
    "                    new_map[i][j] = 1\n",
    "    return new_map"
   ]
  },
  {
   "cell_type": "code",
   "execution_count": null,
   "metadata": {},
   "outputs": [],
   "source": [
    "def count(ori_map, value):\n",
    "    cnt = 0\n",
    "    for i in range(HEIGHT):\n",
    "        for j in range(WIDTH):\n",
    "            if ori_map[i][j] == value:\n",
    "                cnt += 1\n",
    "    return cnt"
   ]
  },
  {
   "cell_type": "code",
   "execution_count": null,
   "metadata": {},
   "outputs": [],
   "source": [
    "tree_cnt = []\n",
    "fire_cnt = []\n",
    "ground_cnt = []\n",
    "for _ in range(STEP):\n",
    "    plt.figure(figsize=(10, 10), dpi=50)\n",
    "    plt.imshow(map, cmap='RdYlGn', vmin=-1, vmax=1)\n",
    "    plt.title(\"Step %d\" % (_+1))\n",
    "    plt.axis('off')\n",
    "    plt.show()\n",
    "    \n",
    "    #time.sleep(.01)\n",
    "    tree_cnt.append(count(map, 1))\n",
    "    fire_cnt.append(count(map, -1))\n",
    "    ground_cnt.append(count(map, 0))\n",
    "    \n",
    "    map = change(map)\n",
    "    display.clear_output(wait=True)\n",
    "    plt.close('all')"
   ]
  },
  {
   "cell_type": "code",
   "execution_count": null,
   "metadata": {},
   "outputs": [],
   "source": [
    "plt.figure(figsize=(10, 10), dpi=50)\n",
    "x = [_ for _ in range(STEP)]\n",
    "plt.plot(x, tree_cnt, color='green')\n",
    "plt.plot(x, fire_cnt, color='red')\n",
    "plt.plot(x, ground_cnt, color='blue')\n",
    "plt.show()"
   ]
  },
  {
   "cell_type": "code",
   "execution_count": null,
   "metadata": {},
   "outputs": [],
   "source": []
  }
 ],
 "metadata": {
  "kernelspec": {
   "display_name": "Python 3 (ipykernel)",
   "language": "python",
   "name": "python3"
  },
  "language_info": {
   "codemirror_mode": {
    "name": "ipython",
    "version": 3
   },
   "file_extension": ".py",
   "mimetype": "text/x-python",
   "name": "python",
   "nbconvert_exporter": "python",
   "pygments_lexer": "ipython3",
   "version": "3.11.2"
  }
 },
 "nbformat": 4,
 "nbformat_minor": 4
}
