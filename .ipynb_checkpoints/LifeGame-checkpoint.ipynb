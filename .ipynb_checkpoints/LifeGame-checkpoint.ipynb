{
 "cells": [
  {
   "cell_type": "code",
   "execution_count": 1,
   "metadata": {},
   "outputs": [],
   "source": [
    "%matplotlib inline\n",
    "from IPython import display\n",
    "import matplotlib.pyplot as plt\n",
    "import random\n",
    "import copy"
   ]
  },
  {
   "cell_type": "code",
   "execution_count": 2,
   "metadata": {},
   "outputs": [],
   "source": [
    "WIDTH = 101\n",
    "HEIGHT = 101\n",
    "map = [[random.randint(0, 1) for _ in range(WIDTH)] for _ in range(HEIGHT)]"
   ]
  },
  {
   "cell_type": "code",
   "execution_count": 3,
   "metadata": {},
   "outputs": [],
   "source": [
    "directs = [[0, 1], [0, -1], [1, 0], [-1, 0], [-1, -1], [1, 1], [-1, 1], [1, -1]]\n",
    "def change(ori_map):\n",
    "    new_map = [[0 for _ in range(WIDTH)] for _ in range(HEIGHT)]\n",
    "    for i in range(HEIGHT):\n",
    "        for j in range(WIDTH):\n",
    "            sum = 0\n",
    "            for direct in directs:\n",
    "                ni = i+direct[0]\n",
    "                nj = j+direct[1]\n",
    "                if 0<=ni<HEIGHT and 0<=nj<WIDTH:\n",
    "                    sum += ori_map[ni][nj]\n",
    "            if sum == 2:\n",
    "                new_map[i][j] = ori_map[i][j]\n",
    "            elif sum == 3:\n",
    "                new_map[i][j] = 1\n",
    "            else:\n",
    "                new_map[i][j] = 0\n",
    "    return new_map"
   ]
  },
  {
   "cell_type": "code",
   "execution_count": 4,
   "metadata": {},
   "outputs": [
    {
     "data": {
      "image/png": "[encoded data removed]",
      "text/plain": [
       "<Figure size 500x500 with 1 Axes>"
      ]
     },
     "metadata": {},
     "output_type": "display_data"
    }
   ],
   "source": [
    "for _ in range(200):\n",
    "    plt.figure(figsize=(10, 10), dpi=50)\n",
    "    plt.imshow(map, cmap='gray_r')\n",
    "    plt.title(\"Step %d\" % (_+1))\n",
    "    plt.axis('off')\n",
    "    plt.show()\n",
    "    map = change(map)\n",
    "    display.clear_output(wait=True)\n",
    "    plt.close('all')"
   ]
  },
  {
   "cell_type": "code",
   "execution_count": null,
   "metadata": {},
   "outputs": [],
   "source": []
  }
 ],
 "metadata": {
  "kernelspec": {
   "display_name": "Python 3 (ipykernel)",
   "language": "python",
   "name": "python3"
  },
  "language_info": {
   "codemirror_mode": {
    "name": "ipython",
    "version": 3
   },
   "file_extension": ".py",
   "mimetype": "text/x-python",
   "name": "python",
   "nbconvert_exporter": "python",
   "pygments_lexer": "ipython3",
   "version": "3.10.11"
  }
 },
 "nbformat": 4,
 "nbformat_minor": 4
}
