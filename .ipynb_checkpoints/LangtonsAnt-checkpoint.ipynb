{
 "cells": [
  {
   "cell_type": "code",
   "execution_count": 1,
   "metadata": {},
   "outputs": [],
   "source": [
    "%matplotlib inline\n",
    "from IPython import display\n",
    "import matplotlib.pyplot as plt\n",
    "import numpy as np\n",
    "import time\n",
    "import copy"
   ]
  },
  {
   "cell_type": "code",
   "execution_count": 2,
   "metadata": {},
   "outputs": [
    {
     "data": {
      "image/png": "[encoded data removed]",
      "text/plain": [
       "<Figure size 500x500 with 1 Axes>"
      ]
     },
     "metadata": {},
     "output_type": "display_data"
    }
   ],
   "source": [
    "WIDTH = 1000\n",
    "HEIGHT = 1000\n",
    "mat = np.zeros([WIDTH, HEIGHT])\n",
    "pos = [int(WIDTH/2)-1, int(HEIGHT/2)-1]\n",
    "#pos = [np.random.randint(WIDTH), np.random.randint(HEIGHT)]\n",
    "step = 0\n",
    "directs = [[0, 1], [-1, 0], [0, -1], [1, 0]]\n",
    "cur_direct = directs[np.random.randint(4)]\n",
    "\n",
    "while step < 20000000:\n",
    "    # white turn right\n",
    "    if not (0<=pos[0]<WIDTH and 0<=pos[1]<HEIGHT):\n",
    "        break\n",
    "    if mat[pos[0], pos[1]] == 0:\n",
    "        mat[pos[0], pos[1]] = 1\n",
    "        flip = True\n",
    "        if cur_direct[0] == 0:\n",
    "            flip = False\n",
    "        cur_direct[0], cur_direct[1] = cur_direct[1], cur_direct[0]\n",
    "        if flip:\n",
    "            cur_direct[1] = -cur_direct[1]\n",
    "    # black turn left\n",
    "    else:\n",
    "        mat[pos[0], pos[1]] = 0\n",
    "        flip = True\n",
    "        if cur_direct[1] == 0:\n",
    "            flip = False\n",
    "        cur_direct[0], cur_direct[1] = cur_direct[1], cur_direct[0]\n",
    "        if flip:\n",
    "            cur_direct[0] = -cur_direct[0]\n",
    "    pos[0] += cur_direct[0]\n",
    "    pos[1] += cur_direct[1]\n",
    "    if step%10000 == 0:\n",
    "        plt.figure(figsize=(10, 10), dpi=50)\n",
    "        plt.imshow(mat, cmap='gray_r')\n",
    "        plt.title(\"Position [%d, %d], Step %d\"%(pos[0], pos[1], step))\n",
    "        plt.axis('off')\n",
    "        plt.show()\n",
    "        display.clear_output(wait=True)\n",
    "        plt.close('all')\n",
    "    step += 1\n",
    "plt.figure(figsize=(10, 10), dpi=50)\n",
    "plt.imshow(mat, cmap='gray_r')\n",
    "plt.title(\"Position [%d, %d], Step %d\"%(pos[0], pos[1], step))\n",
    "plt.axis('off')\n",
    "plt.show()\n",
    "display.clear_output(wait=True)\n",
    "plt.close('all')"
   ]
  },
  {
   "cell_type": "code",
   "execution_count": null,
   "metadata": {},
   "outputs": [],
   "source": []
  }
 ],
 "metadata": {
  "kernelspec": {
   "display_name": "Python 3 (ipykernel)",
   "language": "python",
   "name": "python3"
  },
  "language_info": {
   "codemirror_mode": {
    "name": "ipython",
    "version": 3
   },
   "file_extension": ".py",
   "mimetype": "text/x-python",
   "name": "python",
   "nbconvert_exporter": "python",
   "pygments_lexer": "ipython3",
   "version": "3.10.11"
  }
 },
 "nbformat": 4,
 "nbformat_minor": 4
}
